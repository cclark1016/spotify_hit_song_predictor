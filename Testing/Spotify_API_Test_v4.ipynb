{
 "cells": [
  {
   "cell_type": "code",
   "execution_count": 1,
   "metadata": {},
   "outputs": [],
   "source": [
    "import spotipy\n",
    "from spotipy.oauth2 import SpotifyClientCredentials\n",
    "import pandas as pd\n",
    "import time \n",
    "client_id = 'b5c7d7ea97be46b1959d9a11c6f1c957'\n",
    "client_secret = '55113b682928475794be1372d6c46ddc'\n",
    "client_credentials_manager = SpotifyClientCredentials(client_id, client_secret)\n",
    "sp = spotipy.Spotify(client_credentials_manager=client_credentials_manager)"
   ]
  },
  {
   "cell_type": "code",
   "execution_count": 23,
   "metadata": {},
   "outputs": [],
   "source": [
    "def get_ids_function(user_id, playlist_id):\n",
    "    playlist = sp.user_playlist(user_id, playlist_id)\n",
    "    tracks = playlist['tracks']['items']\n",
    "    next_uri = playlist['tracks']['next']\n",
    "    for _ in range(int(playlist['tracks']['total'] / playlist['tracks']['limit'])):\n",
    "        response = sp._get(next_uri)\n",
    "        tracks += response['items']\n",
    "        next_uri = response['next']\n",
    "\n",
    "    tracks_df = pd.DataFrame([(track['track']['id'],\n",
    "                               track['track']['artists'][0]['name'],\n",
    "                               track['track']['name'],\n",
    "                               track['track']['album']['release_date'])\n",
    "                              for track in playlist['tracks']['items']],\n",
    "                             columns=['id', 'artist', 'name','release_date'])\n",
    "    #Build ID list\n",
    "    global ids\n",
    "    ids = tracks_df['id'].to_list()\n",
    "    #Filter None types out of id list\n",
    "    global ids_f\n",
    "    ids_f = [] \n",
    "    for val in ids: \n",
    "        if val != None : \n",
    "            ids_f.append(val)"
   ]
  },
  {
   "cell_type": "code",
   "execution_count": 24,
   "metadata": {},
   "outputs": [
    {
     "name": "stdout",
     "output_type": "stream",
     "text": [
      "194\n",
      "191\n"
     ]
    }
   ],
   "source": [
    "user_id = '122385242'\n",
    "playlist_id = '0fK5sPrFanzGwBJkLTZTJj'\n",
    "get_ids_function(user_id, playlist_id)\n",
    "\n",
    "print (len(ids))\n",
    "print (len(ids_f))"
   ]
  },
  {
   "cell_type": "code",
   "execution_count": 12,
   "metadata": {},
   "outputs": [
    {
     "name": "stderr",
     "output_type": "stream",
     "text": [
      "HTTP Error for GET to https://api.spotify.com/v1/audio-features/?ids=0SyXvJ6uRArVWHXUyi3FKO,2oMOqX9k4k16odibNkYyrD,7xVLFuuYdAvcTfcP3IG3dS,42GcjriRK6srwHkfbkBqVl,3SuzCeGoNOWmbWOoDMou0B,1RkOJtrrYNeF5DLVtx0CG4,3VpdIi5XK2m8AaCXSVW320,5azeng4J5zhIjXmqRag2qQ,5sl2735QKaOmL8UL4Q39Ut,07NI6CCv57IbIqzy10ddd7,4kNvYhyl8R6m1vykVkcuBu,0qw5TBa2hxPqiBxwCf6QIM,5DO1SazQppcsKQ1c1JpyQz,5wpDupdKxD4aKNV8kbtdYt,2JPavCWYtpCSnyLwnLBvXZ,7AijU6oTPGmG64uWf63Qvc,793xe74Xm4VFkkAOI6eZvy,289MmJCmxYMxC54ZHcd9G0,1Mp36AbVgpubAirlMV0qef,2mvOTgcGE2RagkpO0ETdAK,4i0ioe6BC6qvV6FOm6nf7K,0fAehaneUJdlSlWXYe1KZp,6JKoTnberZoBgUuxa6l4Kh,5ic68M3jaJTEUcEIh5PcqX,0fOt4Bci9zsbuC9aToOYUc,26dfLcCVJUdscPvmUmkuSI,1FI5lyquYyh4gkAD2gcWO4,6rMBHjn2ebKoTy0A4Czt7W,0LFcFGLYTX6UmeIdO7NVd7,0nq6sfr8z1R5KJ4XUk396e,0nq6sfr8z1R5KJ4XUk396e,7gSXAVW4zOlWnO4Y3QX7vz,5kC3aAeAh0RNAn7D6JMU94,77h8UXtbg4cX1JkVge5lgg,4Ma4zfdZeuGMXqcd4arydv,5oJjldvcmmJeZnwlUYV0Zh,6IKThyOvGgxCqU4llnViJg,12bCgkFnyyTI8B1OmmRhbx,2bpFkCHUa5hY51VUDcEC26,6cl9b8FcmiCo1Bxf5cvHbI,1DbeslBYnckTqqTcc1Y2Tg,51oVwsllGkGySCLW6inIXE,7clUOYJb0WsAgFQEgDxSIT,3fzOYwddDY9DTtBnn3EMcm,7fU07zHBVjXu4JVry5oEsX,6mavtNxMc35XwKg9POUemZ,6zSwnPvoqQ2bzvYMlt3u4u,0Gt4nGWoATcQFL38a1NRao,4lrjnCVD8cnV3FEEblovxB,0wfrsR4P16Zj4BeI5hyPO5,39RWgrQOBCLQH88wy0TBm9,63UqmKUcnJxEWewv3kKeOp,1Kym30HhxluYlqAxyu1QqQ,4E7H6rqgxHdSoeGSS28CTY,2W10vndZ7uSOKVineVfjOa,0pT1DW5RUHelpBMyEgWwaU,0P6NAD4A1XYFnj5djpu9JN,2MO3mSPBH8U9qalH72vqZ1,71kRCithpvDtbxWBCJ8FW6,6V2D8Lls36APk0THDjBDfE,6vSFlDhoPPAvaEBcUUBCWd,5CWiRKm8Wr35UNV8pB7xYw,1Ajp50IXWne7XVlH1zAktL,4jtyUzZm9WLc2AdaJ1dso7,72umswj0Jlu9EVT5uoL2hl,2AgtAAjiqp06Uifjzp1K6t,21tQ61tNj6qbXbDwmSIPt9,6N9ZOtguCnnrvwH7zD82WJ,0tpUSqnOkcuMz2rwrSKKf1,0Q4k0Tj0OI9Z8AUdRpcAR8,7E8jojFn5X3OPPuTx6TmPe,2znzyzlAUc8Z1Ikq9aFOcx,2JI71GHwq2LN8mtq3iCLYo,3Lt558KSXrSTLBr3EJ3BAe,47A4a2ZxJaZz5nBME2HtXs,228nYWqXzsBS9Ha0SIpM7q,39h7qYbmksGgxQzDH9X7Aq,79reBHqpRoWXaQbjBBY3UC,5InOp6q2vvx0fShv3bzFLZ,1UIUkZtlgyrjPcH2agNomU,4QfVMnOYuE5Ah7E4g1p6Bx,1SkR9g1l9NipSZhZPJsbOT,3I8MbKRkS2IBDuslhCS3iT,3Gh1IgRsu6fcGFcrbqxCoD,6mXwoyzrpb4T5Iveoo4k5G,6gRdeYacHcQoA3zRSRl2ET,25khomWgBVamSdKw7hzm3l,27GmP9AWRs744SzKcpJsTZ,5VPFATm85G3P04Q5g8yxqr,2d8JP84HNLKhmd6IYOoupQ,5TmgLf3eXrAAfNIk5bURJL,23SZWX2IaDnxmhFsSLvkG2,0aIEP5HUWvlONfPzgTCqj5,0YARm5otFgjHFUdOC5uweA,6kgWshh5NlFhHciQsAaRww,5RjbFGeWVsCpw8EcE8OrvZ,67yGmgfoLNpT1J0AaDpdV2,6V5nMvQwsiyW7rEyZq3gfQ,4jTiyLlOJVJj3mCr7yfPQD,1Rq4GtIucW9CAcF8B6PAbW,0nNCLhwb0SUFhVMxDY5KLk,07oiSjg6TiehyOS3pRJo0l,25gSVIBOWeUqXG8DnzpCCs,62vpWI1CHwFy7tMIcSStl8,6iLvJQu5MIRTRrNj8gLKmE,3Ww9tnMuqvRcToBPk2YWdS,19gEmPjfqSZT0ulDRfjl0m,17Q87zeXgsAi9iQQbMu9v0,71SDPonZOsIKNtqnaX8LXj,7LY8HVoBFipd6XbNOmwePC,6JFLZH9vCzgqnUToBdiHQb,3rbNV2GI8Vtd8byhUtXZID,7zBPzAjKAqQpcv8F8GCq5s,16qYlQ6koFxYVbiJbGHblz,5LJCQcj2CnAZ09mWEOrkEp,2BsaECzKFhYT81E0uVZEv4,6GnhWMhgJb7uyiiPEiEkDA,0T3ruvJQNQeTyK7tWKvdoX,23NWj2izXAJ4yL6Nah73wf,0qy5D3OJre7SPJNMOL9I71,4tx0vtX2cvTVShFLu0vvzO,2zvXUc9nn5Uwer8dbWxN8F,4A1tU19Dz1rmvQO0x8lw4r,6BrppQL1SAkKVWqp6w0nNm,275a9yzwGB6ncAW4SxY7q3,7JNtiT1CLAfy95gHRHE6WH,0HFrCOmhCYXlv4NdEwRAuj,4r6AFRv8b4KurDJvm7BZ5N,7loXv8g9YbDzxfAFENqTdr,0v9Wz8o0BT8DU38R4ddjeH,60xaS8mYBKUW4VQQ666N0T,03OJAyr2kdNq56xPQAcyB1,1uJbTscaPYAtwYrSaSf4yV,22nxxO4PW0kTP6hfHJ7YmE,5uDASfU19gDxSjW8cnCaBp,3eZGNBvKkExXp8q5FAyM8y,7pda6TLAbVGxUjIUtbiNt0,5QrT8pNtw1UnjqFuSUsenv,1b6rmL3VXBgYTbn61kM8wT,0Di26AbdtizzHkFstPyt7A,2MCwp9BKGkuMU0zwyOiO47,2Sq5o76vCkVue1DyWV3R5f,5slEM8khwqRaQgvY66nv1x,28luqgS4NCuFKP6YSOtia5,5ALc7rbru6QOLGodVSDocc,3dN4uT4IhRVtTxnznKgHp9,0L5NUvQBRRePMV6INacS0W,31Yebmn7gDvxc0yjRV8M5t,6YBaCpYSMtzj2sf402aLfm,0lpRp9KzzMbC0w1uiL7H7f,1Ke6bqdvdGJF1ftvuO8qtP,4YJmZfvlheSziXem8HBWrj,4Jle0Cjj88YkM7jbAjiFjf,6aa21an1SIMA8QJkq2qLiH,66UI237YMw6AL6S72FGKND,2Pp3QD3thPnk2kCxmu2MHK,5LTgI9VsuL3NKrv2WHBgNx,6AFVDL8O6Hg5AmDjNIpQ8r,26Q7f4tUntDtlL4EyZz65X,7KOlJ92bu51cltsD9KU5I7,0mGgkrD2phGmsBiDy58z1O,3rOSwuTsUlJp0Pu0MkN8r8,7zNov3L71qO8jYkmqXDby7,2bjwRfXMk4uRgOD9IBYl9h,3GnLo84IkdSWCPYt6tnLll,0Xut3729ypvW1lpZy0MWt9,22ORq3oPzpqyMZgxrFoR4s,4r4PJQBHAE0bIKCjunhTgd,0JHiunLNuecyqiKzL6nTOn,4pYZLpX23Vx8rwDpJCpPTA,0taOCiup4HNG9LmbduVlJj,42tBlHWL3VfDkUM2iWcc5p,0b9oOr2ZgvyQu88wzixux9,6bGwKHXHNLmTy6yt147FPh,1r33iukEx0COYuBzyXPmPP,48AmDDuQ3xzkFVmGiBBBsw,2jlVsVNu7aL9OjxyJwYZF5,4qKcDkK6siZ7Jp1Jb4m0aL,16DHWSDlEa5K0JbMHnuMXM,6XyxCBp6x3jvtxXvMN5sAA,2BJSMvOGABRxokHKB0OI8i,2jXpiTuwwWbCSvpkKwCfwc,0ZWhqhiu9eIUOB1Ou0kiO3,58c3EPWiOpN7DckK8MIpHk,2Bb3mu3lfUrcRoTi3IcvQc,0iAI4Nv50sU0LGRKmF555Z,2MbdDtCv5LUVjYy9RuGTgC,3nS9a01VvXHQriLqJYwRqG,6WbTTAGKrQtCQvmc5BuYfh,2qzUpSVI4NnPyWxbXwumTj,6hLZzCS4E7AWo3PRBWy6az returned 414 due to error\n"
     ]
    },
    {
     "ename": "SpotifyException",
     "evalue": "http status: 414, code:-1 - https://api.spotify.com/v1/audio-features/?ids=0SyXvJ6uRArVWHXUyi3FKO,2oMOqX9k4k16odibNkYyrD,7xVLFuuYdAvcTfcP3IG3dS,42GcjriRK6srwHkfbkBqVl,3SuzCeGoNOWmbWOoDMou0B,1RkOJtrrYNeF5DLVtx0CG4,3VpdIi5XK2m8AaCXSVW320,5azeng4J5zhIjXmqRag2qQ,5sl2735QKaOmL8UL4Q39Ut,07NI6CCv57IbIqzy10ddd7,4kNvYhyl8R6m1vykVkcuBu,0qw5TBa2hxPqiBxwCf6QIM,5DO1SazQppcsKQ1c1JpyQz,5wpDupdKxD4aKNV8kbtdYt,2JPavCWYtpCSnyLwnLBvXZ,7AijU6oTPGmG64uWf63Qvc,793xe74Xm4VFkkAOI6eZvy,289MmJCmxYMxC54ZHcd9G0,1Mp36AbVgpubAirlMV0qef,2mvOTgcGE2RagkpO0ETdAK,4i0ioe6BC6qvV6FOm6nf7K,0fAehaneUJdlSlWXYe1KZp,6JKoTnberZoBgUuxa6l4Kh,5ic68M3jaJTEUcEIh5PcqX,0fOt4Bci9zsbuC9aToOYUc,26dfLcCVJUdscPvmUmkuSI,1FI5lyquYyh4gkAD2gcWO4,6rMBHjn2ebKoTy0A4Czt7W,0LFcFGLYTX6UmeIdO7NVd7,0nq6sfr8z1R5KJ4XUk396e,0nq6sfr8z1R5KJ4XUk396e,7gSXAVW4zOlWnO4Y3QX7vz,5kC3aAeAh0RNAn7D6JMU94,77h8UXtbg4cX1JkVge5lgg,4Ma4zfdZeuGMXqcd4arydv,5oJjldvcmmJeZnwlUYV0Zh,6IKThyOvGgxCqU4llnViJg,12bCgkFnyyTI8B1OmmRhbx,2bpFkCHUa5hY51VUDcEC26,6cl9b8FcmiCo1Bxf5cvHbI,1DbeslBYnckTqqTcc1Y2Tg,51oVwsllGkGySCLW6inIXE,7clUOYJb0WsAgFQEgDxSIT,3fzOYwddDY9DTtBnn3EMcm,7fU07zHBVjXu4JVry5oEsX,6mavtNxMc35XwKg9POUemZ,6zSwnPvoqQ2bzvYMlt3u4u,0Gt4nGWoATcQFL38a1NRao,4lrjnCVD8cnV3FEEblovxB,0wfrsR4P16Zj4BeI5hyPO5,39RWgrQOBCLQH88wy0TBm9,63UqmKUcnJxEWewv3kKeOp,1Kym30HhxluYlqAxyu1QqQ,4E7H6rqgxHdSoeGSS28CTY,2W10vndZ7uSOKVineVfjOa,0pT1DW5RUHelpBMyEgWwaU,0P6NAD4A1XYFnj5djpu9JN,2MO3mSPBH8U9qalH72vqZ1,71kRCithpvDtbxWBCJ8FW6,6V2D8Lls36APk0THDjBDfE,6vSFlDhoPPAvaEBcUUBCWd,5CWiRKm8Wr35UNV8pB7xYw,1Ajp50IXWne7XVlH1zAktL,4jtyUzZm9WLc2AdaJ1dso7,72umswj0Jlu9EVT5uoL2hl,2AgtAAjiqp06Uifjzp1K6t,21tQ61tNj6qbXbDwmSIPt9,6N9ZOtguCnnrvwH7zD82WJ,0tpUSqnOkcuMz2rwrSKKf1,0Q4k0Tj0OI9Z8AUdRpcAR8,7E8jojFn5X3OPPuTx6TmPe,2znzyzlAUc8Z1Ikq9aFOcx,2JI71GHwq2LN8mtq3iCLYo,3Lt558KSXrSTLBr3EJ3BAe,47A4a2ZxJaZz5nBME2HtXs,228nYWqXzsBS9Ha0SIpM7q,39h7qYbmksGgxQzDH9X7Aq,79reBHqpRoWXaQbjBBY3UC,5InOp6q2vvx0fShv3bzFLZ,1UIUkZtlgyrjPcH2agNomU,4QfVMnOYuE5Ah7E4g1p6Bx,1SkR9g1l9NipSZhZPJsbOT,3I8MbKRkS2IBDuslhCS3iT,3Gh1IgRsu6fcGFcrbqxCoD,6mXwoyzrpb4T5Iveoo4k5G,6gRdeYacHcQoA3zRSRl2ET,25khomWgBVamSdKw7hzm3l,27GmP9AWRs744SzKcpJsTZ,5VPFATm85G3P04Q5g8yxqr,2d8JP84HNLKhmd6IYOoupQ,5TmgLf3eXrAAfNIk5bURJL,23SZWX2IaDnxmhFsSLvkG2,0aIEP5HUWvlONfPzgTCqj5,0YARm5otFgjHFUdOC5uweA,6kgWshh5NlFhHciQsAaRww,5RjbFGeWVsCpw8EcE8OrvZ,67yGmgfoLNpT1J0AaDpdV2,6V5nMvQwsiyW7rEyZq3gfQ,4jTiyLlOJVJj3mCr7yfPQD,1Rq4GtIucW9CAcF8B6PAbW,0nNCLhwb0SUFhVMxDY5KLk,07oiSjg6TiehyOS3pRJo0l,25gSVIBOWeUqXG8DnzpCCs,62vpWI1CHwFy7tMIcSStl8,6iLvJQu5MIRTRrNj8gLKmE,3Ww9tnMuqvRcToBPk2YWdS,19gEmPjfqSZT0ulDRfjl0m,17Q87zeXgsAi9iQQbMu9v0,71SDPonZOsIKNtqnaX8LXj,7LY8HVoBFipd6XbNOmwePC,6JFLZH9vCzgqnUToBdiHQb,3rbNV2GI8Vtd8byhUtXZID,7zBPzAjKAqQpcv8F8GCq5s,16qYlQ6koFxYVbiJbGHblz,5LJCQcj2CnAZ09mWEOrkEp,2BsaECzKFhYT81E0uVZEv4,6GnhWMhgJb7uyiiPEiEkDA,0T3ruvJQNQeTyK7tWKvdoX,23NWj2izXAJ4yL6Nah73wf,0qy5D3OJre7SPJNMOL9I71,4tx0vtX2cvTVShFLu0vvzO,2zvXUc9nn5Uwer8dbWxN8F,4A1tU19Dz1rmvQO0x8lw4r,6BrppQL1SAkKVWqp6w0nNm,275a9yzwGB6ncAW4SxY7q3,7JNtiT1CLAfy95gHRHE6WH,0HFrCOmhCYXlv4NdEwRAuj,4r6AFRv8b4KurDJvm7BZ5N,7loXv8g9YbDzxfAFENqTdr,0v9Wz8o0BT8DU38R4ddjeH,60xaS8mYBKUW4VQQ666N0T,03OJAyr2kdNq56xPQAcyB1,1uJbTscaPYAtwYrSaSf4yV,22nxxO4PW0kTP6hfHJ7YmE,5uDASfU19gDxSjW8cnCaBp,3eZGNBvKkExXp8q5FAyM8y,7pda6TLAbVGxUjIUtbiNt0,5QrT8pNtw1UnjqFuSUsenv,1b6rmL3VXBgYTbn61kM8wT,0Di26AbdtizzHkFstPyt7A,2MCwp9BKGkuMU0zwyOiO47,2Sq5o76vCkVue1DyWV3R5f,5slEM8khwqRaQgvY66nv1x,28luqgS4NCuFKP6YSOtia5,5ALc7rbru6QOLGodVSDocc,3dN4uT4IhRVtTxnznKgHp9,0L5NUvQBRRePMV6INacS0W,31Yebmn7gDvxc0yjRV8M5t,6YBaCpYSMtzj2sf402aLfm,0lpRp9KzzMbC0w1uiL7H7f,1Ke6bqdvdGJF1ftvuO8qtP,4YJmZfvlheSziXem8HBWrj,4Jle0Cjj88YkM7jbAjiFjf,6aa21an1SIMA8QJkq2qLiH,66UI237YMw6AL6S72FGKND,2Pp3QD3thPnk2kCxmu2MHK,5LTgI9VsuL3NKrv2WHBgNx,6AFVDL8O6Hg5AmDjNIpQ8r,26Q7f4tUntDtlL4EyZz65X,7KOlJ92bu51cltsD9KU5I7,0mGgkrD2phGmsBiDy58z1O,3rOSwuTsUlJp0Pu0MkN8r8,7zNov3L71qO8jYkmqXDby7,2bjwRfXMk4uRgOD9IBYl9h,3GnLo84IkdSWCPYt6tnLll,0Xut3729ypvW1lpZy0MWt9,22ORq3oPzpqyMZgxrFoR4s,4r4PJQBHAE0bIKCjunhTgd,0JHiunLNuecyqiKzL6nTOn,4pYZLpX23Vx8rwDpJCpPTA,0taOCiup4HNG9LmbduVlJj,42tBlHWL3VfDkUM2iWcc5p,0b9oOr2ZgvyQu88wzixux9,6bGwKHXHNLmTy6yt147FPh,1r33iukEx0COYuBzyXPmPP,48AmDDuQ3xzkFVmGiBBBsw,2jlVsVNu7aL9OjxyJwYZF5,4qKcDkK6siZ7Jp1Jb4m0aL,16DHWSDlEa5K0JbMHnuMXM,6XyxCBp6x3jvtxXvMN5sAA,2BJSMvOGABRxokHKB0OI8i,2jXpiTuwwWbCSvpkKwCfwc,0ZWhqhiu9eIUOB1Ou0kiO3,58c3EPWiOpN7DckK8MIpHk,2Bb3mu3lfUrcRoTi3IcvQc,0iAI4Nv50sU0LGRKmF555Z,2MbdDtCv5LUVjYy9RuGTgC,3nS9a01VvXHQriLqJYwRqG,6WbTTAGKrQtCQvmc5BuYfh,2qzUpSVI4NnPyWxbXwumTj,6hLZzCS4E7AWo3PRBWy6az:\n error, reason: None",
     "output_type": "error",
     "traceback": [
      "\u001b[1;31m---------------------------------------------------------------------------\u001b[0m",
      "\u001b[1;31mHTTPError\u001b[0m                                 Traceback (most recent call last)",
      "\u001b[1;32m~\\anaconda3\\lib\\site-packages\\spotipy\\client.py\u001b[0m in \u001b[0;36m_internal_call\u001b[1;34m(self, method, url, payload, params)\u001b[0m\n\u001b[0;32m    244\u001b[0m \u001b[1;33m\u001b[0m\u001b[0m\n\u001b[1;32m--> 245\u001b[1;33m             \u001b[0mresponse\u001b[0m\u001b[1;33m.\u001b[0m\u001b[0mraise_for_status\u001b[0m\u001b[1;33m(\u001b[0m\u001b[1;33m)\u001b[0m\u001b[1;33m\u001b[0m\u001b[1;33m\u001b[0m\u001b[0m\n\u001b[0m\u001b[0;32m    246\u001b[0m             \u001b[0mresults\u001b[0m \u001b[1;33m=\u001b[0m \u001b[0mresponse\u001b[0m\u001b[1;33m.\u001b[0m\u001b[0mjson\u001b[0m\u001b[1;33m(\u001b[0m\u001b[1;33m)\u001b[0m\u001b[1;33m\u001b[0m\u001b[1;33m\u001b[0m\u001b[0m\n",
      "\u001b[1;32m~\\anaconda3\\lib\\site-packages\\requests\\models.py\u001b[0m in \u001b[0;36mraise_for_status\u001b[1;34m(self)\u001b[0m\n\u001b[0;32m    940\u001b[0m         \u001b[1;32mif\u001b[0m \u001b[0mhttp_error_msg\u001b[0m\u001b[1;33m:\u001b[0m\u001b[1;33m\u001b[0m\u001b[1;33m\u001b[0m\u001b[0m\n\u001b[1;32m--> 941\u001b[1;33m             \u001b[1;32mraise\u001b[0m \u001b[0mHTTPError\u001b[0m\u001b[1;33m(\u001b[0m\u001b[0mhttp_error_msg\u001b[0m\u001b[1;33m,\u001b[0m \u001b[0mresponse\u001b[0m\u001b[1;33m=\u001b[0m\u001b[0mself\u001b[0m\u001b[1;33m)\u001b[0m\u001b[1;33m\u001b[0m\u001b[1;33m\u001b[0m\u001b[0m\n\u001b[0m\u001b[0;32m    942\u001b[0m \u001b[1;33m\u001b[0m\u001b[0m\n",
      "\u001b[1;31mHTTPError\u001b[0m: 414 Client Error: Request-URI Too Large for url: https://api.spotify.com/v1/audio-features/?ids=0SyXvJ6uRArVWHXUyi3FKO,2oMOqX9k4k16odibNkYyrD,7xVLFuuYdAvcTfcP3IG3dS,42GcjriRK6srwHkfbkBqVl,3SuzCeGoNOWmbWOoDMou0B,1RkOJtrrYNeF5DLVtx0CG4,3VpdIi5XK2m8AaCXSVW320,5azeng4J5zhIjXmqRag2qQ,5sl2735QKaOmL8UL4Q39Ut,07NI6CCv57IbIqzy10ddd7,4kNvYhyl8R6m1vykVkcuBu,0qw5TBa2hxPqiBxwCf6QIM,5DO1SazQppcsKQ1c1JpyQz,5wpDupdKxD4aKNV8kbtdYt,2JPavCWYtpCSnyLwnLBvXZ,7AijU6oTPGmG64uWf63Qvc,793xe74Xm4VFkkAOI6eZvy,289MmJCmxYMxC54ZHcd9G0,1Mp36AbVgpubAirlMV0qef,2mvOTgcGE2RagkpO0ETdAK,4i0ioe6BC6qvV6FOm6nf7K,0fAehaneUJdlSlWXYe1KZp,6JKoTnberZoBgUuxa6l4Kh,5ic68M3jaJTEUcEIh5PcqX,0fOt4Bci9zsbuC9aToOYUc,26dfLcCVJUdscPvmUmkuSI,1FI5lyquYyh4gkAD2gcWO4,6rMBHjn2ebKoTy0A4Czt7W,0LFcFGLYTX6UmeIdO7NVd7,0nq6sfr8z1R5KJ4XUk396e,0nq6sfr8z1R5KJ4XUk396e,7gSXAVW4zOlWnO4Y3QX7vz,5kC3aAeAh0RNAn7D6JMU94,77h8UXtbg4cX1JkVge5lgg,4Ma4zfdZeuGMXqcd4arydv,5oJjldvcmmJeZnwlUYV0Zh,6IKThyOvGgxCqU4llnViJg,12bCgkFnyyTI8B1OmmRhbx,2bpFkCHUa5hY51VUDcEC26,6cl9b8FcmiCo1Bxf5cvHbI,1DbeslBYnckTqqTcc1Y2Tg,51oVwsllGkGySCLW6inIXE,7clUOYJb0WsAgFQEgDxSIT,3fzOYwddDY9DTtBnn3EMcm,7fU07zHBVjXu4JVry5oEsX,6mavtNxMc35XwKg9POUemZ,6zSwnPvoqQ2bzvYMlt3u4u,0Gt4nGWoATcQFL38a1NRao,4lrjnCVD8cnV3FEEblovxB,0wfrsR4P16Zj4BeI5hyPO5,39RWgrQOBCLQH88wy0TBm9,63UqmKUcnJxEWewv3kKeOp,1Kym30HhxluYlqAxyu1QqQ,4E7H6rqgxHdSoeGSS28CTY,2W10vndZ7uSOKVineVfjOa,0pT1DW5RUHelpBMyEgWwaU,0P6NAD4A1XYFnj5djpu9JN,2MO3mSPBH8U9qalH72vqZ1,71kRCithpvDtbxWBCJ8FW6,6V2D8Lls36APk0THDjBDfE,6vSFlDhoPPAvaEBcUUBCWd,5CWiRKm8Wr35UNV8pB7xYw,1Ajp50IXWne7XVlH1zAktL,4jtyUzZm9WLc2AdaJ1dso7,72umswj0Jlu9EVT5uoL2hl,2AgtAAjiqp06Uifjzp1K6t,21tQ61tNj6qbXbDwmSIPt9,6N9ZOtguCnnrvwH7zD82WJ,0tpUSqnOkcuMz2rwrSKKf1,0Q4k0Tj0OI9Z8AUdRpcAR8,7E8jojFn5X3OPPuTx6TmPe,2znzyzlAUc8Z1Ikq9aFOcx,2JI71GHwq2LN8mtq3iCLYo,3Lt558KSXrSTLBr3EJ3BAe,47A4a2ZxJaZz5nBME2HtXs,228nYWqXzsBS9Ha0SIpM7q,39h7qYbmksGgxQzDH9X7Aq,79reBHqpRoWXaQbjBBY3UC,5InOp6q2vvx0fShv3bzFLZ,1UIUkZtlgyrjPcH2agNomU,4QfVMnOYuE5Ah7E4g1p6Bx,1SkR9g1l9NipSZhZPJsbOT,3I8MbKRkS2IBDuslhCS3iT,3Gh1IgRsu6fcGFcrbqxCoD,6mXwoyzrpb4T5Iveoo4k5G,6gRdeYacHcQoA3zRSRl2ET,25khomWgBVamSdKw7hzm3l,27GmP9AWRs744SzKcpJsTZ,5VPFATm85G3P04Q5g8yxqr,2d8JP84HNLKhmd6IYOoupQ,5TmgLf3eXrAAfNIk5bURJL,23SZWX2IaDnxmhFsSLvkG2,0aIEP5HUWvlONfPzgTCqj5,0YARm5otFgjHFUdOC5uweA,6kgWshh5NlFhHciQsAaRww,5RjbFGeWVsCpw8EcE8OrvZ,67yGmgfoLNpT1J0AaDpdV2,6V5nMvQwsiyW7rEyZq3gfQ,4jTiyLlOJVJj3mCr7yfPQD,1Rq4GtIucW9CAcF8B6PAbW,0nNCLhwb0SUFhVMxDY5KLk,07oiSjg6TiehyOS3pRJo0l,25gSVIBOWeUqXG8DnzpCCs,62vpWI1CHwFy7tMIcSStl8,6iLvJQu5MIRTRrNj8gLKmE,3Ww9tnMuqvRcToBPk2YWdS,19gEmPjfqSZT0ulDRfjl0m,17Q87zeXgsAi9iQQbMu9v0,71SDPonZOsIKNtqnaX8LXj,7LY8HVoBFipd6XbNOmwePC,6JFLZH9vCzgqnUToBdiHQb,3rbNV2GI8Vtd8byhUtXZID,7zBPzAjKAqQpcv8F8GCq5s,16qYlQ6koFxYVbiJbGHblz,5LJCQcj2CnAZ09mWEOrkEp,2BsaECzKFhYT81E0uVZEv4,6GnhWMhgJb7uyiiPEiEkDA,0T3ruvJQNQeTyK7tWKvdoX,23NWj2izXAJ4yL6Nah73wf,0qy5D3OJre7SPJNMOL9I71,4tx0vtX2cvTVShFLu0vvzO,2zvXUc9nn5Uwer8dbWxN8F,4A1tU19Dz1rmvQO0x8lw4r,6BrppQL1SAkKVWqp6w0nNm,275a9yzwGB6ncAW4SxY7q3,7JNtiT1CLAfy95gHRHE6WH,0HFrCOmhCYXlv4NdEwRAuj,4r6AFRv8b4KurDJvm7BZ5N,7loXv8g9YbDzxfAFENqTdr,0v9Wz8o0BT8DU38R4ddjeH,60xaS8mYBKUW4VQQ666N0T,03OJAyr2kdNq56xPQAcyB1,1uJbTscaPYAtwYrSaSf4yV,22nxxO4PW0kTP6hfHJ7YmE,5uDASfU19gDxSjW8cnCaBp,3eZGNBvKkExXp8q5FAyM8y,7pda6TLAbVGxUjIUtbiNt0,5QrT8pNtw1UnjqFuSUsenv,1b6rmL3VXBgYTbn61kM8wT,0Di26AbdtizzHkFstPyt7A,2MCwp9BKGkuMU0zwyOiO47,2Sq5o76vCkVue1DyWV3R5f,5slEM8khwqRaQgvY66nv1x,28luqgS4NCuFKP6YSOtia5,5ALc7rbru6QOLGodVSDocc,3dN4uT4IhRVtTxnznKgHp9,0L5NUvQBRRePMV6INacS0W,31Yebmn7gDvxc0yjRV8M5t,6YBaCpYSMtzj2sf402aLfm,0lpRp9KzzMbC0w1uiL7H7f,1Ke6bqdvdGJF1ftvuO8qtP,4YJmZfvlheSziXem8HBWrj,4Jle0Cjj88YkM7jbAjiFjf,6aa21an1SIMA8QJkq2qLiH,66UI237YMw6AL6S72FGKND,2Pp3QD3thPnk2kCxmu2MHK,5LTgI9VsuL3NKrv2WHBgNx,6AFVDL8O6Hg5AmDjNIpQ8r,26Q7f4tUntDtlL4EyZz65X,7KOlJ92bu51cltsD9KU5I7,0mGgkrD2phGmsBiDy58z1O,3rOSwuTsUlJp0Pu0MkN8r8,7zNov3L71qO8jYkmqXDby7,2bjwRfXMk4uRgOD9IBYl9h,3GnLo84IkdSWCPYt6tnLll,0Xut3729ypvW1lpZy0MWt9,22ORq3oPzpqyMZgxrFoR4s,4r4PJQBHAE0bIKCjunhTgd,0JHiunLNuecyqiKzL6nTOn,4pYZLpX23Vx8rwDpJCpPTA,0taOCiup4HNG9LmbduVlJj,42tBlHWL3VfDkUM2iWcc5p,0b9oOr2ZgvyQu88wzixux9,6bGwKHXHNLmTy6yt147FPh,1r33iukEx0COYuBzyXPmPP,48AmDDuQ3xzkFVmGiBBBsw,2jlVsVNu7aL9OjxyJwYZF5,4qKcDkK6siZ7Jp1Jb4m0aL,16DHWSDlEa5K0JbMHnuMXM,6XyxCBp6x3jvtxXvMN5sAA,2BJSMvOGABRxokHKB0OI8i,2jXpiTuwwWbCSvpkKwCfwc,0ZWhqhiu9eIUOB1Ou0kiO3,58c3EPWiOpN7DckK8MIpHk,2Bb3mu3lfUrcRoTi3IcvQc,0iAI4Nv50sU0LGRKmF555Z,2MbdDtCv5LUVjYy9RuGTgC,3nS9a01VvXHQriLqJYwRqG,6WbTTAGKrQtCQvmc5BuYfh,2qzUpSVI4NnPyWxbXwumTj,6hLZzCS4E7AWo3PRBWy6az",
      "\nDuring handling of the above exception, another exception occurred:\n",
      "\u001b[1;31mSpotifyException\u001b[0m                          Traceback (most recent call last)",
      "\u001b[1;32m<ipython-input-12-5792c05577a1>\u001b[0m in \u001b[0;36m<module>\u001b[1;34m\u001b[0m\n\u001b[0;32m     35\u001b[0m \u001b[1;33m\u001b[0m\u001b[0m\n\u001b[0;32m     36\u001b[0m \u001b[1;31m#check the song feature\u001b[0m\u001b[1;33m\u001b[0m\u001b[1;33m\u001b[0m\u001b[1;33m\u001b[0m\u001b[0m\n\u001b[1;32m---> 37\u001b[1;33m \u001b[0mfeatures\u001b[0m \u001b[1;33m=\u001b[0m \u001b[0msp\u001b[0m\u001b[1;33m.\u001b[0m\u001b[0maudio_features\u001b[0m\u001b[1;33m(\u001b[0m\u001b[0msong_meta\u001b[0m\u001b[1;33m[\u001b[0m\u001b[1;34m'id'\u001b[0m\u001b[1;33m]\u001b[0m\u001b[1;33m)\u001b[0m\u001b[1;33m\u001b[0m\u001b[1;33m\u001b[0m\u001b[0m\n\u001b[0m\u001b[0;32m     38\u001b[0m \u001b[1;31m# change the dictionary to dataframe\u001b[0m\u001b[1;33m\u001b[0m\u001b[1;33m\u001b[0m\u001b[1;33m\u001b[0m\u001b[0m\n\u001b[0;32m     39\u001b[0m \u001b[0mfeatures_df\u001b[0m\u001b[1;33m=\u001b[0m\u001b[0mpd\u001b[0m\u001b[1;33m.\u001b[0m\u001b[0mDataFrame\u001b[0m\u001b[1;33m.\u001b[0m\u001b[0mfrom_dict\u001b[0m\u001b[1;33m(\u001b[0m\u001b[0mfeatures\u001b[0m\u001b[1;33m)\u001b[0m\u001b[1;33m\u001b[0m\u001b[1;33m\u001b[0m\u001b[0m\n",
      "\u001b[1;32m~\\anaconda3\\lib\\site-packages\\spotipy\\client.py\u001b[0m in \u001b[0;36maudio_features\u001b[1;34m(self, tracks)\u001b[0m\n\u001b[0;32m   1620\u001b[0m         \u001b[1;32melse\u001b[0m\u001b[1;33m:\u001b[0m\u001b[1;33m\u001b[0m\u001b[1;33m\u001b[0m\u001b[0m\n\u001b[0;32m   1621\u001b[0m             \u001b[0mtlist\u001b[0m \u001b[1;33m=\u001b[0m \u001b[1;33m[\u001b[0m\u001b[0mself\u001b[0m\u001b[1;33m.\u001b[0m\u001b[0m_get_id\u001b[0m\u001b[1;33m(\u001b[0m\u001b[1;34m\"track\"\u001b[0m\u001b[1;33m,\u001b[0m \u001b[0mt\u001b[0m\u001b[1;33m)\u001b[0m \u001b[1;32mfor\u001b[0m \u001b[0mt\u001b[0m \u001b[1;32min\u001b[0m \u001b[0mtracks\u001b[0m\u001b[1;33m]\u001b[0m\u001b[1;33m\u001b[0m\u001b[1;33m\u001b[0m\u001b[0m\n\u001b[1;32m-> 1622\u001b[1;33m             \u001b[0mresults\u001b[0m \u001b[1;33m=\u001b[0m \u001b[0mself\u001b[0m\u001b[1;33m.\u001b[0m\u001b[0m_get\u001b[0m\u001b[1;33m(\u001b[0m\u001b[1;34m\"audio-features/?ids=\"\u001b[0m \u001b[1;33m+\u001b[0m \u001b[1;34m\",\"\u001b[0m\u001b[1;33m.\u001b[0m\u001b[0mjoin\u001b[0m\u001b[1;33m(\u001b[0m\u001b[0mtlist\u001b[0m\u001b[1;33m)\u001b[0m\u001b[1;33m)\u001b[0m\u001b[1;33m\u001b[0m\u001b[1;33m\u001b[0m\u001b[0m\n\u001b[0m\u001b[0;32m   1623\u001b[0m         \u001b[1;31m# the response has changed, look for the new style first, and if\u001b[0m\u001b[1;33m\u001b[0m\u001b[1;33m\u001b[0m\u001b[1;33m\u001b[0m\u001b[0m\n\u001b[0;32m   1624\u001b[0m         \u001b[1;31m# its not there, fallback on the old style\u001b[0m\u001b[1;33m\u001b[0m\u001b[1;33m\u001b[0m\u001b[1;33m\u001b[0m\u001b[0m\n",
      "\u001b[1;32m~\\anaconda3\\lib\\site-packages\\spotipy\\client.py\u001b[0m in \u001b[0;36m_get\u001b[1;34m(self, url, args, payload, **kwargs)\u001b[0m\n\u001b[0;32m    289\u001b[0m             \u001b[0mkwargs\u001b[0m\u001b[1;33m.\u001b[0m\u001b[0mupdate\u001b[0m\u001b[1;33m(\u001b[0m\u001b[0margs\u001b[0m\u001b[1;33m)\u001b[0m\u001b[1;33m\u001b[0m\u001b[1;33m\u001b[0m\u001b[0m\n\u001b[0;32m    290\u001b[0m \u001b[1;33m\u001b[0m\u001b[0m\n\u001b[1;32m--> 291\u001b[1;33m         \u001b[1;32mreturn\u001b[0m \u001b[0mself\u001b[0m\u001b[1;33m.\u001b[0m\u001b[0m_internal_call\u001b[0m\u001b[1;33m(\u001b[0m\u001b[1;34m\"GET\"\u001b[0m\u001b[1;33m,\u001b[0m \u001b[0murl\u001b[0m\u001b[1;33m,\u001b[0m \u001b[0mpayload\u001b[0m\u001b[1;33m,\u001b[0m \u001b[0mkwargs\u001b[0m\u001b[1;33m)\u001b[0m\u001b[1;33m\u001b[0m\u001b[1;33m\u001b[0m\u001b[0m\n\u001b[0m\u001b[0;32m    292\u001b[0m \u001b[1;33m\u001b[0m\u001b[0m\n\u001b[0;32m    293\u001b[0m     \u001b[1;32mdef\u001b[0m \u001b[0m_post\u001b[0m\u001b[1;33m(\u001b[0m\u001b[0mself\u001b[0m\u001b[1;33m,\u001b[0m \u001b[0murl\u001b[0m\u001b[1;33m,\u001b[0m \u001b[0margs\u001b[0m\u001b[1;33m=\u001b[0m\u001b[1;32mNone\u001b[0m\u001b[1;33m,\u001b[0m \u001b[0mpayload\u001b[0m\u001b[1;33m=\u001b[0m\u001b[1;32mNone\u001b[0m\u001b[1;33m,\u001b[0m \u001b[1;33m**\u001b[0m\u001b[0mkwargs\u001b[0m\u001b[1;33m)\u001b[0m\u001b[1;33m:\u001b[0m\u001b[1;33m\u001b[0m\u001b[1;33m\u001b[0m\u001b[0m\n",
      "\u001b[1;32m~\\anaconda3\\lib\\site-packages\\spotipy\\client.py\u001b[0m in \u001b[0;36m_internal_call\u001b[1;34m(self, method, url, payload, params)\u001b[0m\n\u001b[0;32m    259\u001b[0m                          method, url, response.status_code, msg)\n\u001b[0;32m    260\u001b[0m \u001b[1;33m\u001b[0m\u001b[0m\n\u001b[1;32m--> 261\u001b[1;33m             raise SpotifyException(\n\u001b[0m\u001b[0;32m    262\u001b[0m                 \u001b[0mresponse\u001b[0m\u001b[1;33m.\u001b[0m\u001b[0mstatus_code\u001b[0m\u001b[1;33m,\u001b[0m\u001b[1;33m\u001b[0m\u001b[1;33m\u001b[0m\u001b[0m\n\u001b[0;32m    263\u001b[0m                 \u001b[1;33m-\u001b[0m\u001b[1;36m1\u001b[0m\u001b[1;33m,\u001b[0m\u001b[1;33m\u001b[0m\u001b[1;33m\u001b[0m\u001b[0m\n",
      "\u001b[1;31mSpotifyException\u001b[0m: http status: 414, code:-1 - https://api.spotify.com/v1/audio-features/?ids=0SyXvJ6uRArVWHXUyi3FKO,2oMOqX9k4k16odibNkYyrD,7xVLFuuYdAvcTfcP3IG3dS,42GcjriRK6srwHkfbkBqVl,3SuzCeGoNOWmbWOoDMou0B,1RkOJtrrYNeF5DLVtx0CG4,3VpdIi5XK2m8AaCXSVW320,5azeng4J5zhIjXmqRag2qQ,5sl2735QKaOmL8UL4Q39Ut,07NI6CCv57IbIqzy10ddd7,4kNvYhyl8R6m1vykVkcuBu,0qw5TBa2hxPqiBxwCf6QIM,5DO1SazQppcsKQ1c1JpyQz,5wpDupdKxD4aKNV8kbtdYt,2JPavCWYtpCSnyLwnLBvXZ,7AijU6oTPGmG64uWf63Qvc,793xe74Xm4VFkkAOI6eZvy,289MmJCmxYMxC54ZHcd9G0,1Mp36AbVgpubAirlMV0qef,2mvOTgcGE2RagkpO0ETdAK,4i0ioe6BC6qvV6FOm6nf7K,0fAehaneUJdlSlWXYe1KZp,6JKoTnberZoBgUuxa6l4Kh,5ic68M3jaJTEUcEIh5PcqX,0fOt4Bci9zsbuC9aToOYUc,26dfLcCVJUdscPvmUmkuSI,1FI5lyquYyh4gkAD2gcWO4,6rMBHjn2ebKoTy0A4Czt7W,0LFcFGLYTX6UmeIdO7NVd7,0nq6sfr8z1R5KJ4XUk396e,0nq6sfr8z1R5KJ4XUk396e,7gSXAVW4zOlWnO4Y3QX7vz,5kC3aAeAh0RNAn7D6JMU94,77h8UXtbg4cX1JkVge5lgg,4Ma4zfdZeuGMXqcd4arydv,5oJjldvcmmJeZnwlUYV0Zh,6IKThyOvGgxCqU4llnViJg,12bCgkFnyyTI8B1OmmRhbx,2bpFkCHUa5hY51VUDcEC26,6cl9b8FcmiCo1Bxf5cvHbI,1DbeslBYnckTqqTcc1Y2Tg,51oVwsllGkGySCLW6inIXE,7clUOYJb0WsAgFQEgDxSIT,3fzOYwddDY9DTtBnn3EMcm,7fU07zHBVjXu4JVry5oEsX,6mavtNxMc35XwKg9POUemZ,6zSwnPvoqQ2bzvYMlt3u4u,0Gt4nGWoATcQFL38a1NRao,4lrjnCVD8cnV3FEEblovxB,0wfrsR4P16Zj4BeI5hyPO5,39RWgrQOBCLQH88wy0TBm9,63UqmKUcnJxEWewv3kKeOp,1Kym30HhxluYlqAxyu1QqQ,4E7H6rqgxHdSoeGSS28CTY,2W10vndZ7uSOKVineVfjOa,0pT1DW5RUHelpBMyEgWwaU,0P6NAD4A1XYFnj5djpu9JN,2MO3mSPBH8U9qalH72vqZ1,71kRCithpvDtbxWBCJ8FW6,6V2D8Lls36APk0THDjBDfE,6vSFlDhoPPAvaEBcUUBCWd,5CWiRKm8Wr35UNV8pB7xYw,1Ajp50IXWne7XVlH1zAktL,4jtyUzZm9WLc2AdaJ1dso7,72umswj0Jlu9EVT5uoL2hl,2AgtAAjiqp06Uifjzp1K6t,21tQ61tNj6qbXbDwmSIPt9,6N9ZOtguCnnrvwH7zD82WJ,0tpUSqnOkcuMz2rwrSKKf1,0Q4k0Tj0OI9Z8AUdRpcAR8,7E8jojFn5X3OPPuTx6TmPe,2znzyzlAUc8Z1Ikq9aFOcx,2JI71GHwq2LN8mtq3iCLYo,3Lt558KSXrSTLBr3EJ3BAe,47A4a2ZxJaZz5nBME2HtXs,228nYWqXzsBS9Ha0SIpM7q,39h7qYbmksGgxQzDH9X7Aq,79reBHqpRoWXaQbjBBY3UC,5InOp6q2vvx0fShv3bzFLZ,1UIUkZtlgyrjPcH2agNomU,4QfVMnOYuE5Ah7E4g1p6Bx,1SkR9g1l9NipSZhZPJsbOT,3I8MbKRkS2IBDuslhCS3iT,3Gh1IgRsu6fcGFcrbqxCoD,6mXwoyzrpb4T5Iveoo4k5G,6gRdeYacHcQoA3zRSRl2ET,25khomWgBVamSdKw7hzm3l,27GmP9AWRs744SzKcpJsTZ,5VPFATm85G3P04Q5g8yxqr,2d8JP84HNLKhmd6IYOoupQ,5TmgLf3eXrAAfNIk5bURJL,23SZWX2IaDnxmhFsSLvkG2,0aIEP5HUWvlONfPzgTCqj5,0YARm5otFgjHFUdOC5uweA,6kgWshh5NlFhHciQsAaRww,5RjbFGeWVsCpw8EcE8OrvZ,67yGmgfoLNpT1J0AaDpdV2,6V5nMvQwsiyW7rEyZq3gfQ,4jTiyLlOJVJj3mCr7yfPQD,1Rq4GtIucW9CAcF8B6PAbW,0nNCLhwb0SUFhVMxDY5KLk,07oiSjg6TiehyOS3pRJo0l,25gSVIBOWeUqXG8DnzpCCs,62vpWI1CHwFy7tMIcSStl8,6iLvJQu5MIRTRrNj8gLKmE,3Ww9tnMuqvRcToBPk2YWdS,19gEmPjfqSZT0ulDRfjl0m,17Q87zeXgsAi9iQQbMu9v0,71SDPonZOsIKNtqnaX8LXj,7LY8HVoBFipd6XbNOmwePC,6JFLZH9vCzgqnUToBdiHQb,3rbNV2GI8Vtd8byhUtXZID,7zBPzAjKAqQpcv8F8GCq5s,16qYlQ6koFxYVbiJbGHblz,5LJCQcj2CnAZ09mWEOrkEp,2BsaECzKFhYT81E0uVZEv4,6GnhWMhgJb7uyiiPEiEkDA,0T3ruvJQNQeTyK7tWKvdoX,23NWj2izXAJ4yL6Nah73wf,0qy5D3OJre7SPJNMOL9I71,4tx0vtX2cvTVShFLu0vvzO,2zvXUc9nn5Uwer8dbWxN8F,4A1tU19Dz1rmvQO0x8lw4r,6BrppQL1SAkKVWqp6w0nNm,275a9yzwGB6ncAW4SxY7q3,7JNtiT1CLAfy95gHRHE6WH,0HFrCOmhCYXlv4NdEwRAuj,4r6AFRv8b4KurDJvm7BZ5N,7loXv8g9YbDzxfAFENqTdr,0v9Wz8o0BT8DU38R4ddjeH,60xaS8mYBKUW4VQQ666N0T,03OJAyr2kdNq56xPQAcyB1,1uJbTscaPYAtwYrSaSf4yV,22nxxO4PW0kTP6hfHJ7YmE,5uDASfU19gDxSjW8cnCaBp,3eZGNBvKkExXp8q5FAyM8y,7pda6TLAbVGxUjIUtbiNt0,5QrT8pNtw1UnjqFuSUsenv,1b6rmL3VXBgYTbn61kM8wT,0Di26AbdtizzHkFstPyt7A,2MCwp9BKGkuMU0zwyOiO47,2Sq5o76vCkVue1DyWV3R5f,5slEM8khwqRaQgvY66nv1x,28luqgS4NCuFKP6YSOtia5,5ALc7rbru6QOLGodVSDocc,3dN4uT4IhRVtTxnznKgHp9,0L5NUvQBRRePMV6INacS0W,31Yebmn7gDvxc0yjRV8M5t,6YBaCpYSMtzj2sf402aLfm,0lpRp9KzzMbC0w1uiL7H7f,1Ke6bqdvdGJF1ftvuO8qtP,4YJmZfvlheSziXem8HBWrj,4Jle0Cjj88YkM7jbAjiFjf,6aa21an1SIMA8QJkq2qLiH,66UI237YMw6AL6S72FGKND,2Pp3QD3thPnk2kCxmu2MHK,5LTgI9VsuL3NKrv2WHBgNx,6AFVDL8O6Hg5AmDjNIpQ8r,26Q7f4tUntDtlL4EyZz65X,7KOlJ92bu51cltsD9KU5I7,0mGgkrD2phGmsBiDy58z1O,3rOSwuTsUlJp0Pu0MkN8r8,7zNov3L71qO8jYkmqXDby7,2bjwRfXMk4uRgOD9IBYl9h,3GnLo84IkdSWCPYt6tnLll,0Xut3729ypvW1lpZy0MWt9,22ORq3oPzpqyMZgxrFoR4s,4r4PJQBHAE0bIKCjunhTgd,0JHiunLNuecyqiKzL6nTOn,4pYZLpX23Vx8rwDpJCpPTA,0taOCiup4HNG9LmbduVlJj,42tBlHWL3VfDkUM2iWcc5p,0b9oOr2ZgvyQu88wzixux9,6bGwKHXHNLmTy6yt147FPh,1r33iukEx0COYuBzyXPmPP,48AmDDuQ3xzkFVmGiBBBsw,2jlVsVNu7aL9OjxyJwYZF5,4qKcDkK6siZ7Jp1Jb4m0aL,16DHWSDlEa5K0JbMHnuMXM,6XyxCBp6x3jvtxXvMN5sAA,2BJSMvOGABRxokHKB0OI8i,2jXpiTuwwWbCSvpkKwCfwc,0ZWhqhiu9eIUOB1Ou0kiO3,58c3EPWiOpN7DckK8MIpHk,2Bb3mu3lfUrcRoTi3IcvQc,0iAI4Nv50sU0LGRKmF555Z,2MbdDtCv5LUVjYy9RuGTgC,3nS9a01VvXHQriLqJYwRqG,6WbTTAGKrQtCQvmc5BuYfh,2qzUpSVI4NnPyWxbXwumTj,6hLZzCS4E7AWo3PRBWy6az:\n error, reason: None"
     ]
    }
   ],
   "source": [
    "song_meta={'id':[], 'album':[], 'name':[], 'artist':[], 'explicit':[], 'popularity':[]}\n",
    "\n",
    "for song_id in ids_f:\n",
    "        #get song's meta data\n",
    "        meta = sp.track(song_id)\n",
    "\n",
    "        #song id\n",
    "        song_meta['id'].append(song_id)\n",
    "\n",
    "        #album name\n",
    "        album=meta['album']['name']\n",
    "        song_meta['album']+=['album']\n",
    "\n",
    "        # song name\n",
    "        song=meta['name']\n",
    "        song_meta['name']+=[song]\n",
    "\n",
    "        #artists name\n",
    "        s =', '\n",
    "        artist=s.join([singer_name['name'] for singer_name in meta['artists']])\n",
    "        song_meta['artist']+=[artist]\n",
    "\n",
    "        # explicit: lyrics could be considered offensive or unsuitable for children\n",
    "        explicit = meta['explicit']\n",
    "        song_meta['explicit'].append(explicit)\n",
    "\n",
    "        #song popularity=meta['popularity']\n",
    "        popularity = meta['popularity']\n",
    "        song_meta['popularity'].append(popularity)\n",
    "        \n",
    "\n",
    "\n",
    "    \n",
    "song_meta_df=pd.DataFrame.from_dict(song_meta)\n",
    "\n",
    "#check the song feature\n",
    "features = sp.audio_features(song_meta['id'])\n",
    "# change the dictionary to dataframe\n",
    "features_df=pd.DataFrame.from_dict(features)\n",
    "\n",
    "#convert milliseconds to mins\n",
    "#duration_ms: duration of track in milliseconds\n",
    "#1 minute = 60 seconds = 60 x 1000 milliseconds = 60,000 ms\n",
    "\n",
    "features_df['duration_ms']= features_df['duration_ms']/6000\n",
    "\n",
    "#combine two dataframe\n",
    "final_df = song_meta_df.merge(features_df)"
   ]
  }
 ],
 "metadata": {
  "kernelspec": {
   "display_name": "PythonData",
   "language": "python",
   "name": "pythondata"
  },
  "language_info": {
   "codemirror_mode": {
    "name": "ipython",
    "version": 3
   },
   "file_extension": ".py",
   "mimetype": "text/x-python",
   "name": "python",
   "nbconvert_exporter": "python",
   "pygments_lexer": "ipython3",
   "version": "3.8.3"
  }
 },
 "nbformat": 4,
 "nbformat_minor": 4
}
